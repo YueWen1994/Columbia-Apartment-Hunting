{
 "cells": [
  {
   "cell_type": "code",
   "execution_count": 49,
   "metadata": {
    "collapsed": false
   },
   "outputs": [],
   "source": [
    "def extract_restaurant_from_yelp(zipcode):\n",
    "    import time\n",
    "    import requests\n",
    "    from bs4 import BeautifulSoup\n",
    "    import pandas as pd\n",
    "    data=pd.DataFrame(columns = [\"restaurant_name\",\"category\",\"rating\",\"neighborhood\",\"address\",\"zipcode\"])\n",
    "    url=\"https://www.yelp.com/search?find_desc=Restaurants&find_loc=%s\"%(zipcode)\n",
    "    #print(url)\n",
    "    response = requests.get(url)\n",
    "    page_data_soup = BeautifulSoup(response.content,'html.parser')\n",
    "    page_count = 0\n",
    "    listings_count = 1\n",
    "    while listings_count<=int(1357):\n",
    "        #add the time delay to prevent the anti-web-scraping \n",
    "        time.sleep(5)\n",
    "        url = \"https://www.yelp.com/search?find_desc=Restaurants&find_loc=%s&start=%s\"%(zipcode,page_count*10)\n",
    "        response = requests.get(url)\n",
    "        #print(response.status_code)\n",
    "        page_data_soup = BeautifulSoup(response.content,'html.parser')\n",
    "        restaurant_each_page = page_data_soup.find_all('div',class_=\"search-result natural-search-result\")\n",
    "        for j in range(len(restaurant_each_page)):\n",
    "            listings_count+=1\n",
    "            single_result = page_data_soup.find_all('div',class_=\"search-result natural-search-result\")[j]\n",
    "            #find name\n",
    "            try:\n",
    "                name = single_result.find('h3',class_=\"search-result-title\").text.strip()\n",
    "            except:\n",
    "                name = 'Nan'\n",
    "            #find category\n",
    "            try:\n",
    "                category = single_result.find('span',class_=\"category-str-list\").text.strip()\n",
    "            except:\n",
    "                category = 'Nan'\n",
    "            #find rating\n",
    "            try:\n",
    "                rating = single_result.find('img',class_=src=\"https://s3-media1.fl.yelpcdn.com/assets/srv0/yelp_design_web/8a6fc2d74183/assets/img/stars/stars.png\").get(\"alt\").split()[0]\n",
    "            except:\n",
    "                rating = 'Nan'\n",
    "            #find neighborhood\n",
    "            try:\n",
    "                neighborhood = single_result.find('span',class_=\"neighborhood-str-list\").text.strip()\n",
    "            except:\n",
    "                neighborhood = 'Nan'\n",
    "            #find address and zip_code\n",
    "            try:\n",
    "                address = single_result.find('address').text.strip()\n",
    "                zip_code = address[-1]\n",
    "            except:\n",
    "                address = 'Nan'\n",
    "                zip_code = 'Nan'\n",
    "            data.loc[data.shape[0]] = [name,category,rating,neighborhood,address,zip_code]\n",
    "            print(\"data:\",name,category,rating,neighborhood,address,zip_code)            \n",
    "        page_count+=1\n",
    "        print(page_count)\n",
    "    return data"
   ]
  }
 ],
 "metadata": {
  "anaconda-cloud": {},
  "kernelspec": {
   "display_name": "Python [default]",
   "language": "python",
   "name": "python3"
  },
  "language_info": {
   "codemirror_mode": {
    "name": "ipython",
    "version": 3
   },
   "file_extension": ".py",
   "mimetype": "text/x-python",
   "name": "python",
   "nbconvert_exporter": "python",
   "pygments_lexer": "ipython3",
   "version": "3.5.2"
  }
 },
 "nbformat": 4,
 "nbformat_minor": 1
}
